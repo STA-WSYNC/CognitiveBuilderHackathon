{
 "cells": [
  {
   "cell_type": "code",
   "execution_count": 14,
   "metadata": {
    "collapsed": true
   },
   "outputs": [],
   "source": [
    "import requests\n",
    "import yaml"
   ]
  },
  {
   "cell_type": "code",
   "execution_count": 15,
   "metadata": {
    "collapsed": true
   },
   "outputs": [],
   "source": [
    "with open('.secrets.yaml') as f:\n",
    "    secrets = yaml.load(f)"
   ]
  },
  {
   "cell_type": "code",
   "execution_count": 16,
   "metadata": {
    "collapsed": true
   },
   "outputs": [],
   "source": [
    "api_url = \"https://api.foursquare.com/v2/venues/explore\"\n",
    "per_page_limit = 50  # Number of results returned per API request"
   ]
  },
  {
   "cell_type": "code",
   "execution_count": 37,
   "metadata": {
    "collapsed": true
   },
   "outputs": [],
   "source": [
    "params = {\n",
    "    # Pershing Square - 42nd and Park\n",
    "    'll': '40.7520,-73.9778',\n",
    "    'v': '20170513',\n",
    "    'limit': 1,\n",
    "    'offset': 0\n",
    "}"
   ]
  },
  {
   "cell_type": "code",
   "execution_count": 38,
   "metadata": {
    "collapsed": true
   },
   "outputs": [],
   "source": [
    "params.update(secrets)  # Add API Key and Client Secret to params"
   ]
  },
  {
   "cell_type": "code",
   "execution_count": 39,
   "metadata": {
    "collapsed": true
   },
   "outputs": [],
   "source": [
    "def fetch_venues(params):\n",
    "    response = requests.get(api_url, params=params)\n",
    "    response.status_code\n",
    "    venue_data = response.json()\n",
    "    return venue_data['response']['groups'][0]['items']"
   ]
  },
  {
   "cell_type": "code",
   "execution_count": 40,
   "metadata": {
    "collapsed": false
   },
   "outputs": [
    {
     "data": {
      "text/plain": [
       "1"
      ]
     },
     "execution_count": 40,
     "metadata": {},
     "output_type": "execute_result"
    }
   ],
   "source": [
    "venues = fetch_venues(params)\n",
    "len(venues)"
   ]
  },
  {
   "cell_type": "code",
   "execution_count": 41,
   "metadata": {
    "collapsed": false
   },
   "outputs": [
    {
     "data": {
      "text/plain": [
       "[(0, 'Grand Central Terminal')]"
      ]
     },
     "execution_count": 41,
     "metadata": {},
     "output_type": "execute_result"
    }
   ],
   "source": [
    "[(i, venue['venue']['name']) for i, venue in enumerate(venues)]\n"
   ]
  },
  {
   "cell_type": "code",
   "execution_count": 34,
   "metadata": {
    "collapsed": false
   },
   "outputs": [
    {
     "name": "stdout",
     "output_type": "stream",
     "text": [
      "[{'reasons': {'count': 0, 'items': [{'summary': 'This spot is popular', 'type': 'general', 'reasonName': 'globalInteractionReason'}]}, 'venue': {'id': '42829c80f964a5206a221fe3', 'name': 'Grand Central Terminal', 'contact': {'phone': '2125324900', 'formattedPhone': '(212) 532-4900', 'twitter': 'grandcentralnyc', 'instagram': 'grandcentralnyc', 'facebook': '46047963146', 'facebookUsername': 'GrandCentralTerminal', 'facebookName': 'Grand Central Terminal'}, 'location': {'address': '87 E 42nd St', 'crossStreet': 'btwn Vanderbilt & Park Ave', 'lat': 40.752771818583035, 'lng': -73.97717474340911, 'distance': 100, 'postalCode': '10017', 'cc': 'US', 'city': 'New York', 'state': 'NY', 'country': 'United States', 'formattedAddress': ['87 E 42nd St (btwn Vanderbilt & Park Ave)', 'New York, NY 10017', 'United States']}, 'categories': [{'id': '4bf58dd8d48988d129951735', 'name': 'Train Station', 'pluralName': 'Train Stations', 'shortName': 'Train Station', 'icon': {'prefix': 'https://ss3.4sqi.net/img/categories_v2/travel/trainstation_', 'suffix': '.png'}, 'primary': True}], 'verified': True, 'stats': {'checkinsCount': 832189, 'usersCount': 197861, 'tipCount': 1330}, 'url': 'http://www.grandcentralterminal.com', 'rating': 9.3, 'ratingColor': '00B551', 'ratingSignals': 8296, 'beenHere': {'count': 0, 'marked': False, 'lastCheckinExpiredAt': 0}, 'hours': {'status': 'Open until 2:00 AM', 'isOpen': True, 'isLocalHoliday': False}, 'photos': {'count': 0, 'groups': []}, 'venuePage': {'id': '91385129'}, 'storeId': '', 'hereNow': {'count': 26, 'summary': '26 people are here', 'groups': [{'type': 'others', 'name': 'Other people here', 'count': 26, 'items': []}]}}, 'tips': [{'id': '4be2270d70c603bb49649ab4', 'createdAt': 1273112333, 'text': 'This is where it all begins. Or ends. Where S returned from boarding school, where B headed to Yale, and where D and S struck up an unlikely romance. (I Will Always Love You)', 'type': 'user', 'url': 'http://www.gossipgirl.net/blog/', 'canonicalUrl': 'https://foursquare.com/item/4be2270d70c603bb49649ab4', 'likes': {'count': 618, 'groups': [], 'summary': '618 likes'}, 'logView': True, 'agreeCount': 620, 'disagreeCount': 0, 'lastVoteText': 'Upvoted 1 week ago', 'lastUpvoteTimestamp': 1493914793, 'todo': {'count': 920}, 'user': {'id': '749968', 'firstName': 'Gossip Girl', 'gender': 'none', 'photo': {'prefix': 'https://igx.4sqi.net/img/user/', 'suffix': '/TBW52TWGW0QQSHSB.jpg'}, 'type': 'page'}}], 'referralId': 'e-0-42829c80f964a5206a221fe3-0'}]\n"
     ]
    }
   ],
   "source": [
    "print (venues)"
   ]
  },
  {
   "cell_type": "code",
   "execution_count": 44,
   "metadata": {
    "collapsed": false
   },
   "outputs": [
    {
     "name": "stdout",
     "output_type": "stream",
     "text": [
      "Grand Central Terminal http://www.grandcentralterminal.com\n"
     ]
    }
   ],
   "source": [
    "for venue in venues:\n",
    "    keys = venue['venue'].keys()\n",
    "    # not all venues have a menu url, so we need to check the key exists in venue['venue'] before we reference venue['venue']['url']\n",
    "    for key in keys:\n",
    "        if key =='url':\n",
    "            print ( venue['venue']['name'], venue['venue']['url'])"
   ]
  },
  {
   "cell_type": "code",
   "execution_count": null,
   "metadata": {
    "collapsed": true
   },
   "outputs": [],
   "source": []
  }
 ],
 "metadata": {
  "kernelspec": {
   "display_name": "Python 3",
   "language": "python",
   "name": "python3"
  },
  "language_info": {
   "codemirror_mode": {
    "name": "ipython",
    "version": 3
   },
   "file_extension": ".py",
   "mimetype": "text/x-python",
   "name": "python",
   "nbconvert_exporter": "python",
   "pygments_lexer": "ipython3",
   "version": "3.6.0"
  }
 },
 "nbformat": 4,
 "nbformat_minor": 2
}
